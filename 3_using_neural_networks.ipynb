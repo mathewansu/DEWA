{
  "nbformat": 4,
  "nbformat_minor": 0,
  "metadata": {
    "kernelspec": {
      "display_name": "Python 3",
      "language": "python",
      "name": "python3"
    },
    "language_info": {
      "codemirror_mode": {
        "name": "ipython",
        "version": 3
      },
      "file_extension": ".py",
      "mimetype": "text/x-python",
      "name": "python",
      "nbconvert_exporter": "python",
      "pygments_lexer": "ipython3",
      "version": "3.6.4"
    },
    "colab": {
      "name": "3_using neural_networks.ipynb",
      "provenance": [],
      "collapsed_sections": []
    }
  },
  "cells": [
    {
      "cell_type": "markdown",
      "metadata": {
        "id": "6D11WNdd9s77"
      },
      "source": [
        ""
      ]
    },
    {
      "cell_type": "markdown",
      "metadata": {
        "id": "YKHT3WNF8Dsw"
      },
      "source": [
        "### Import necessary libraries"
      ]
    },
    {
      "cell_type": "code",
      "metadata": {
        "colab": {
          "base_uri": "https://localhost:8080/",
          "height": 71
        },
        "id": "ltt4pT2m8Ds4",
        "outputId": "0d2ce445-9b18-421e-fa53-fc7334ef8b57"
      },
      "source": [
        "import numpy as np\n",
        "import pandas as pd\n",
        "\n",
        "import matplotlib.pyplot as plt \n",
        "import seaborn as sns\n",
        "import pandas_profiling\n",
        "\n",
        "from sklearn.model_selection import train_test_split\n",
        "from sklearn.tree import DecisionTreeClassifier\n",
        "from sklearn.metrics import accuracy_score, f1_score, recall_score, precision_score, confusion_matrix\n",
        "\n",
        "from yellowbrick.classifier import ClassificationReport, ROCAUC\n",
        "\n",
        "plt.style.use('ggplot')\n",
        "pd.options.display.float_format = '{:,.2f}'.format\n",
        "from IPython.core.display import display, HTML\n",
        "display(HTML(\"<style>.container { width:95% !important; }</style>\"))"
      ],
      "execution_count": null,
      "outputs": [
        {
          "output_type": "stream",
          "text": [
            "/usr/local/lib/python3.6/dist-packages/sklearn/utils/deprecation.py:144: FutureWarning: The sklearn.metrics.classification module is  deprecated in version 0.22 and will be removed in version 0.24. The corresponding classes / functions should instead be imported from sklearn.metrics. Anything that cannot be imported from sklearn.metrics is now part of the private API.\n",
            "  warnings.warn(message, FutureWarning)\n"
          ],
          "name": "stderr"
        },
        {
          "output_type": "display_data",
          "data": {
            "text/html": [
              "<style>.container { width:95% !important; }</style>"
            ],
            "text/plain": [
              "<IPython.core.display.HTML object>"
            ]
          },
          "metadata": {
            "tags": []
          }
        }
      ]
    },
    {
      "cell_type": "code",
      "metadata": {
        "id": "2PkIEVHY8Ds6"
      },
      "source": [
        "import warnings\n",
        "warnings.filterwarnings('ignore')"
      ],
      "execution_count": null,
      "outputs": []
    },
    {
      "cell_type": "code",
      "metadata": {
        "id": "hlLDD8z_8Ds7"
      },
      "source": [
        "import string"
      ],
      "execution_count": null,
      "outputs": []
    },
    {
      "cell_type": "code",
      "metadata": {
        "id": "EjIKQtA-8Ds7"
      },
      "source": [
        "#AUC ROC curve\n",
        "from sklearn.metrics import roc_auc_score\n",
        "from sklearn.metrics import roc_curve"
      ],
      "execution_count": null,
      "outputs": []
    },
    {
      "cell_type": "code",
      "metadata": {
        "id": "bcSqY3VJ8Ds8"
      },
      "source": [
        "#!pip install xlrd\n",
        "#!pip install openpyxl"
      ],
      "execution_count": null,
      "outputs": []
    },
    {
      "cell_type": "code",
      "metadata": {
        "colab": {
          "base_uri": "https://localhost:8080/"
        },
        "id": "VHFZE1lg8Ds8",
        "outputId": "70392abd-1426-42da-8467-92a17f4c4f7b"
      },
      "source": [
        "import os\n",
        "os.listdir('.')"
      ],
      "execution_count": null,
      "outputs": [
        {
          "output_type": "execute_result",
          "data": {
            "text/plain": [
              "['.config', 'output.xlsx', 'input.xlsx', 'ros_bag_data.bag', 'sample_data']"
            ]
          },
          "metadata": {
            "tags": []
          },
          "execution_count": 8
        }
      ]
    },
    {
      "cell_type": "code",
      "metadata": {
        "id": "8ljfp2gN8Ds9"
      },
      "source": [
        "import xlrd\n",
        "df_in=pd.read_excel('input.xlsx',engine='openpyxl', header=None)\n",
        "df_out=pd.read_excel('output.xlsx', engine='openpyxl',header=None)"
      ],
      "execution_count": null,
      "outputs": []
    },
    {
      "cell_type": "code",
      "metadata": {
        "colab": {
          "base_uri": "https://localhost:8080/",
          "height": 224
        },
        "id": "g7Ho_jU28Ds9",
        "outputId": "24003790-3ac2-4ca5-d6c2-97266af2aa7d"
      },
      "source": [
        "df_in.head()"
      ],
      "execution_count": null,
      "outputs": [
        {
          "output_type": "execute_result",
          "data": {
            "text/html": [
              "<div>\n",
              "<style scoped>\n",
              "    .dataframe tbody tr th:only-of-type {\n",
              "        vertical-align: middle;\n",
              "    }\n",
              "\n",
              "    .dataframe tbody tr th {\n",
              "        vertical-align: top;\n",
              "    }\n",
              "\n",
              "    .dataframe thead th {\n",
              "        text-align: right;\n",
              "    }\n",
              "</style>\n",
              "<table border=\"1\" class=\"dataframe\">\n",
              "  <thead>\n",
              "    <tr style=\"text-align: right;\">\n",
              "      <th></th>\n",
              "      <th>0</th>\n",
              "      <th>1</th>\n",
              "      <th>2</th>\n",
              "      <th>3</th>\n",
              "      <th>4</th>\n",
              "      <th>5</th>\n",
              "      <th>6</th>\n",
              "      <th>7</th>\n",
              "      <th>8</th>\n",
              "      <th>9</th>\n",
              "      <th>10</th>\n",
              "      <th>11</th>\n",
              "      <th>12</th>\n",
              "      <th>13</th>\n",
              "      <th>14</th>\n",
              "      <th>15</th>\n",
              "      <th>16</th>\n",
              "      <th>17</th>\n",
              "      <th>18</th>\n",
              "      <th>19</th>\n",
              "      <th>20</th>\n",
              "      <th>21</th>\n",
              "      <th>22</th>\n",
              "    </tr>\n",
              "  </thead>\n",
              "  <tbody>\n",
              "    <tr>\n",
              "      <th>0</th>\n",
              "      <td>4.39</td>\n",
              "      <td>4.60</td>\n",
              "      <td>0.14</td>\n",
              "      <td>18.60</td>\n",
              "      <td>3.78</td>\n",
              "      <td>342.29</td>\n",
              "      <td>56.62</td>\n",
              "      <td>3.52</td>\n",
              "      <td>19.84</td>\n",
              "      <td>20.14</td>\n",
              "      <td>4.22</td>\n",
              "      <td>99.84</td>\n",
              "      <td>3.89</td>\n",
              "      <td>0.19</td>\n",
              "      <td>19.95</td>\n",
              "      <td>3.88</td>\n",
              "      <td>934.90</td>\n",
              "      <td>636.41</td>\n",
              "      <td>4.89</td>\n",
              "      <td>19.53</td>\n",
              "      <td>18.11</td>\n",
              "      <td>1.47</td>\n",
              "      <td>73.67</td>\n",
              "    </tr>\n",
              "    <tr>\n",
              "      <th>1</th>\n",
              "      <td>4.02</td>\n",
              "      <td>5.16</td>\n",
              "      <td>0.50</td>\n",
              "      <td>16.31</td>\n",
              "      <td>2.51</td>\n",
              "      <td>186.37</td>\n",
              "      <td>947.34</td>\n",
              "      <td>3.39</td>\n",
              "      <td>18.56</td>\n",
              "      <td>20.16</td>\n",
              "      <td>3.96</td>\n",
              "      <td>55.75</td>\n",
              "      <td>4.03</td>\n",
              "      <td>0.76</td>\n",
              "      <td>14.98</td>\n",
              "      <td>3.14</td>\n",
              "      <td>593.65</td>\n",
              "      <td>85.34</td>\n",
              "      <td>3.98</td>\n",
              "      <td>21.11</td>\n",
              "      <td>18.54</td>\n",
              "      <td>2.26</td>\n",
              "      <td>83.41</td>\n",
              "    </tr>\n",
              "    <tr>\n",
              "      <th>2</th>\n",
              "      <td>4.19</td>\n",
              "      <td>5.37</td>\n",
              "      <td>0.15</td>\n",
              "      <td>18.65</td>\n",
              "      <td>2.76</td>\n",
              "      <td>281.59</td>\n",
              "      <td>543.41</td>\n",
              "      <td>3.44</td>\n",
              "      <td>21.68</td>\n",
              "      <td>19.43</td>\n",
              "      <td>4.03</td>\n",
              "      <td>27.00</td>\n",
              "      <td>1.64</td>\n",
              "      <td>0.81</td>\n",
              "      <td>17.78</td>\n",
              "      <td>3.81</td>\n",
              "      <td>664.12</td>\n",
              "      <td>547.28</td>\n",
              "      <td>2.72</td>\n",
              "      <td>18.39</td>\n",
              "      <td>21.32</td>\n",
              "      <td>1.57</td>\n",
              "      <td>60.68</td>\n",
              "    </tr>\n",
              "    <tr>\n",
              "      <th>3</th>\n",
              "      <td>4.11</td>\n",
              "      <td>4.68</td>\n",
              "      <td>0.69</td>\n",
              "      <td>19.84</td>\n",
              "      <td>2.49</td>\n",
              "      <td>853.99</td>\n",
              "      <td>901.33</td>\n",
              "      <td>6.03</td>\n",
              "      <td>21.01</td>\n",
              "      <td>19.04</td>\n",
              "      <td>4.10</td>\n",
              "      <td>85.02</td>\n",
              "      <td>8.44</td>\n",
              "      <td>0.78</td>\n",
              "      <td>16.84</td>\n",
              "      <td>4.48</td>\n",
              "      <td>929.19</td>\n",
              "      <td>24.25</td>\n",
              "      <td>5.37</td>\n",
              "      <td>19.86</td>\n",
              "      <td>20.36</td>\n",
              "      <td>0.67</td>\n",
              "      <td>85.01</td>\n",
              "    </tr>\n",
              "    <tr>\n",
              "      <th>4</th>\n",
              "      <td>4.12</td>\n",
              "      <td>4.72</td>\n",
              "      <td>0.34</td>\n",
              "      <td>17.29</td>\n",
              "      <td>2.50</td>\n",
              "      <td>915.86</td>\n",
              "      <td>670.69</td>\n",
              "      <td>5.71</td>\n",
              "      <td>18.73</td>\n",
              "      <td>18.56</td>\n",
              "      <td>3.93</td>\n",
              "      <td>62.60</td>\n",
              "      <td>5.94</td>\n",
              "      <td>0.38</td>\n",
              "      <td>14.14</td>\n",
              "      <td>2.06</td>\n",
              "      <td>506.78</td>\n",
              "      <td>787.17</td>\n",
              "      <td>5.57</td>\n",
              "      <td>21.74</td>\n",
              "      <td>21.18</td>\n",
              "      <td>2.96</td>\n",
              "      <td>35.75</td>\n",
              "    </tr>\n",
              "  </tbody>\n",
              "</table>\n",
              "</div>"
            ],
            "text/plain": [
              "    0    1    2     3    4      5   ...     17   18    19    20   21    22\n",
              "0 4.39 4.60 0.14 18.60 3.78 342.29  ... 636.41 4.89 19.53 18.11 1.47 73.67\n",
              "1 4.02 5.16 0.50 16.31 2.51 186.37  ...  85.34 3.98 21.11 18.54 2.26 83.41\n",
              "2 4.19 5.37 0.15 18.65 2.76 281.59  ... 547.28 2.72 18.39 21.32 1.57 60.68\n",
              "3 4.11 4.68 0.69 19.84 2.49 853.99  ...  24.25 5.37 19.86 20.36 0.67 85.01\n",
              "4 4.12 4.72 0.34 17.29 2.50 915.86  ... 787.17 5.57 21.74 21.18 2.96 35.75\n",
              "\n",
              "[5 rows x 23 columns]"
            ]
          },
          "metadata": {
            "tags": []
          },
          "execution_count": 10
        }
      ]
    },
    {
      "cell_type": "code",
      "metadata": {
        "colab": {
          "base_uri": "https://localhost:8080/",
          "height": 204
        },
        "id": "pAQaZ3E38Ds-",
        "outputId": "5164db7d-7fc6-4107-c289-aef27ed161b0"
      },
      "source": [
        "df_out.head()"
      ],
      "execution_count": null,
      "outputs": [
        {
          "output_type": "execute_result",
          "data": {
            "text/html": [
              "<div>\n",
              "<style scoped>\n",
              "    .dataframe tbody tr th:only-of-type {\n",
              "        vertical-align: middle;\n",
              "    }\n",
              "\n",
              "    .dataframe tbody tr th {\n",
              "        vertical-align: top;\n",
              "    }\n",
              "\n",
              "    .dataframe thead th {\n",
              "        text-align: right;\n",
              "    }\n",
              "</style>\n",
              "<table border=\"1\" class=\"dataframe\">\n",
              "  <thead>\n",
              "    <tr style=\"text-align: right;\">\n",
              "      <th></th>\n",
              "      <th>0</th>\n",
              "      <th>1</th>\n",
              "      <th>2</th>\n",
              "      <th>3</th>\n",
              "    </tr>\n",
              "  </thead>\n",
              "  <tbody>\n",
              "    <tr>\n",
              "      <th>0</th>\n",
              "      <td>0.00</td>\n",
              "      <td>0.00</td>\n",
              "      <td>0.00</td>\n",
              "      <td>0.00</td>\n",
              "    </tr>\n",
              "    <tr>\n",
              "      <th>1</th>\n",
              "      <td>18.64</td>\n",
              "      <td>61.73</td>\n",
              "      <td>1.04</td>\n",
              "      <td>28.95</td>\n",
              "    </tr>\n",
              "    <tr>\n",
              "      <th>2</th>\n",
              "      <td>25.44</td>\n",
              "      <td>82.24</td>\n",
              "      <td>1.07</td>\n",
              "      <td>28.97</td>\n",
              "    </tr>\n",
              "    <tr>\n",
              "      <th>3</th>\n",
              "      <td>4.95</td>\n",
              "      <td>32.32</td>\n",
              "      <td>1.02</td>\n",
              "      <td>15.06</td>\n",
              "    </tr>\n",
              "    <tr>\n",
              "      <th>4</th>\n",
              "      <td>4.64</td>\n",
              "      <td>24.78</td>\n",
              "      <td>1.02</td>\n",
              "      <td>18.28</td>\n",
              "    </tr>\n",
              "  </tbody>\n",
              "</table>\n",
              "</div>"
            ],
            "text/plain": [
              "      0     1    2     3\n",
              "0  0.00  0.00 0.00  0.00\n",
              "1 18.64 61.73 1.04 28.95\n",
              "2 25.44 82.24 1.07 28.97\n",
              "3  4.95 32.32 1.02 15.06\n",
              "4  4.64 24.78 1.02 18.28"
            ]
          },
          "metadata": {
            "tags": []
          },
          "execution_count": 11
        }
      ]
    },
    {
      "cell_type": "markdown",
      "metadata": {
        "id": "IQ51vxRP8Ds-"
      },
      "source": [
        "### Adding random colum names"
      ]
    },
    {
      "cell_type": "code",
      "metadata": {
        "colab": {
          "base_uri": "https://localhost:8080/"
        },
        "id": "nOIuOlH68Ds-",
        "outputId": "b81a5972-7ec1-4e8e-ceec-eb2e9a1aaebf"
      },
      "source": [
        "df_in.shape"
      ],
      "execution_count": null,
      "outputs": [
        {
          "output_type": "execute_result",
          "data": {
            "text/plain": [
              "(21920, 23)"
            ]
          },
          "metadata": {
            "tags": []
          },
          "execution_count": 12
        }
      ]
    },
    {
      "cell_type": "code",
      "metadata": {
        "colab": {
          "base_uri": "https://localhost:8080/"
        },
        "id": "--CMrS728Ds_",
        "outputId": "a95c58a4-1c5d-49c2-c64b-cdd77fe4dfdb"
      },
      "source": [
        "list(string.ascii_uppercase)[:df_in.shape[1]]"
      ],
      "execution_count": null,
      "outputs": [
        {
          "output_type": "execute_result",
          "data": {
            "text/plain": [
              "['A',\n",
              " 'B',\n",
              " 'C',\n",
              " 'D',\n",
              " 'E',\n",
              " 'F',\n",
              " 'G',\n",
              " 'H',\n",
              " 'I',\n",
              " 'J',\n",
              " 'K',\n",
              " 'L',\n",
              " 'M',\n",
              " 'N',\n",
              " 'O',\n",
              " 'P',\n",
              " 'Q',\n",
              " 'R',\n",
              " 'S',\n",
              " 'T',\n",
              " 'U',\n",
              " 'V',\n",
              " 'W']"
            ]
          },
          "metadata": {
            "tags": []
          },
          "execution_count": 13
        }
      ]
    },
    {
      "cell_type": "code",
      "metadata": {
        "id": "R_h1AUGu8Ds_"
      },
      "source": [
        "df_in.columns=list(string.ascii_uppercase)[:df_in.shape[1]]"
      ],
      "execution_count": null,
      "outputs": []
    },
    {
      "cell_type": "code",
      "metadata": {
        "colab": {
          "base_uri": "https://localhost:8080/",
          "height": 224
        },
        "id": "4_XjQ_bQ8DtA",
        "outputId": "64a73587-940b-4301-8611-5f4477a681a4"
      },
      "source": [
        "df_in.head()"
      ],
      "execution_count": null,
      "outputs": [
        {
          "output_type": "execute_result",
          "data": {
            "text/html": [
              "<div>\n",
              "<style scoped>\n",
              "    .dataframe tbody tr th:only-of-type {\n",
              "        vertical-align: middle;\n",
              "    }\n",
              "\n",
              "    .dataframe tbody tr th {\n",
              "        vertical-align: top;\n",
              "    }\n",
              "\n",
              "    .dataframe thead th {\n",
              "        text-align: right;\n",
              "    }\n",
              "</style>\n",
              "<table border=\"1\" class=\"dataframe\">\n",
              "  <thead>\n",
              "    <tr style=\"text-align: right;\">\n",
              "      <th></th>\n",
              "      <th>A</th>\n",
              "      <th>B</th>\n",
              "      <th>C</th>\n",
              "      <th>D</th>\n",
              "      <th>E</th>\n",
              "      <th>F</th>\n",
              "      <th>G</th>\n",
              "      <th>H</th>\n",
              "      <th>I</th>\n",
              "      <th>J</th>\n",
              "      <th>K</th>\n",
              "      <th>L</th>\n",
              "      <th>M</th>\n",
              "      <th>N</th>\n",
              "      <th>O</th>\n",
              "      <th>P</th>\n",
              "      <th>Q</th>\n",
              "      <th>R</th>\n",
              "      <th>S</th>\n",
              "      <th>T</th>\n",
              "      <th>U</th>\n",
              "      <th>V</th>\n",
              "      <th>W</th>\n",
              "    </tr>\n",
              "  </thead>\n",
              "  <tbody>\n",
              "    <tr>\n",
              "      <th>0</th>\n",
              "      <td>4.39</td>\n",
              "      <td>4.60</td>\n",
              "      <td>0.14</td>\n",
              "      <td>18.60</td>\n",
              "      <td>3.78</td>\n",
              "      <td>342.29</td>\n",
              "      <td>56.62</td>\n",
              "      <td>3.52</td>\n",
              "      <td>19.84</td>\n",
              "      <td>20.14</td>\n",
              "      <td>4.22</td>\n",
              "      <td>99.84</td>\n",
              "      <td>3.89</td>\n",
              "      <td>0.19</td>\n",
              "      <td>19.95</td>\n",
              "      <td>3.88</td>\n",
              "      <td>934.90</td>\n",
              "      <td>636.41</td>\n",
              "      <td>4.89</td>\n",
              "      <td>19.53</td>\n",
              "      <td>18.11</td>\n",
              "      <td>1.47</td>\n",
              "      <td>73.67</td>\n",
              "    </tr>\n",
              "    <tr>\n",
              "      <th>1</th>\n",
              "      <td>4.02</td>\n",
              "      <td>5.16</td>\n",
              "      <td>0.50</td>\n",
              "      <td>16.31</td>\n",
              "      <td>2.51</td>\n",
              "      <td>186.37</td>\n",
              "      <td>947.34</td>\n",
              "      <td>3.39</td>\n",
              "      <td>18.56</td>\n",
              "      <td>20.16</td>\n",
              "      <td>3.96</td>\n",
              "      <td>55.75</td>\n",
              "      <td>4.03</td>\n",
              "      <td>0.76</td>\n",
              "      <td>14.98</td>\n",
              "      <td>3.14</td>\n",
              "      <td>593.65</td>\n",
              "      <td>85.34</td>\n",
              "      <td>3.98</td>\n",
              "      <td>21.11</td>\n",
              "      <td>18.54</td>\n",
              "      <td>2.26</td>\n",
              "      <td>83.41</td>\n",
              "    </tr>\n",
              "    <tr>\n",
              "      <th>2</th>\n",
              "      <td>4.19</td>\n",
              "      <td>5.37</td>\n",
              "      <td>0.15</td>\n",
              "      <td>18.65</td>\n",
              "      <td>2.76</td>\n",
              "      <td>281.59</td>\n",
              "      <td>543.41</td>\n",
              "      <td>3.44</td>\n",
              "      <td>21.68</td>\n",
              "      <td>19.43</td>\n",
              "      <td>4.03</td>\n",
              "      <td>27.00</td>\n",
              "      <td>1.64</td>\n",
              "      <td>0.81</td>\n",
              "      <td>17.78</td>\n",
              "      <td>3.81</td>\n",
              "      <td>664.12</td>\n",
              "      <td>547.28</td>\n",
              "      <td>2.72</td>\n",
              "      <td>18.39</td>\n",
              "      <td>21.32</td>\n",
              "      <td>1.57</td>\n",
              "      <td>60.68</td>\n",
              "    </tr>\n",
              "    <tr>\n",
              "      <th>3</th>\n",
              "      <td>4.11</td>\n",
              "      <td>4.68</td>\n",
              "      <td>0.69</td>\n",
              "      <td>19.84</td>\n",
              "      <td>2.49</td>\n",
              "      <td>853.99</td>\n",
              "      <td>901.33</td>\n",
              "      <td>6.03</td>\n",
              "      <td>21.01</td>\n",
              "      <td>19.04</td>\n",
              "      <td>4.10</td>\n",
              "      <td>85.02</td>\n",
              "      <td>8.44</td>\n",
              "      <td>0.78</td>\n",
              "      <td>16.84</td>\n",
              "      <td>4.48</td>\n",
              "      <td>929.19</td>\n",
              "      <td>24.25</td>\n",
              "      <td>5.37</td>\n",
              "      <td>19.86</td>\n",
              "      <td>20.36</td>\n",
              "      <td>0.67</td>\n",
              "      <td>85.01</td>\n",
              "    </tr>\n",
              "    <tr>\n",
              "      <th>4</th>\n",
              "      <td>4.12</td>\n",
              "      <td>4.72</td>\n",
              "      <td>0.34</td>\n",
              "      <td>17.29</td>\n",
              "      <td>2.50</td>\n",
              "      <td>915.86</td>\n",
              "      <td>670.69</td>\n",
              "      <td>5.71</td>\n",
              "      <td>18.73</td>\n",
              "      <td>18.56</td>\n",
              "      <td>3.93</td>\n",
              "      <td>62.60</td>\n",
              "      <td>5.94</td>\n",
              "      <td>0.38</td>\n",
              "      <td>14.14</td>\n",
              "      <td>2.06</td>\n",
              "      <td>506.78</td>\n",
              "      <td>787.17</td>\n",
              "      <td>5.57</td>\n",
              "      <td>21.74</td>\n",
              "      <td>21.18</td>\n",
              "      <td>2.96</td>\n",
              "      <td>35.75</td>\n",
              "    </tr>\n",
              "  </tbody>\n",
              "</table>\n",
              "</div>"
            ],
            "text/plain": [
              "     A    B    C     D    E      F  ...      R    S     T     U    V     W\n",
              "0 4.39 4.60 0.14 18.60 3.78 342.29  ... 636.41 4.89 19.53 18.11 1.47 73.67\n",
              "1 4.02 5.16 0.50 16.31 2.51 186.37  ...  85.34 3.98 21.11 18.54 2.26 83.41\n",
              "2 4.19 5.37 0.15 18.65 2.76 281.59  ... 547.28 2.72 18.39 21.32 1.57 60.68\n",
              "3 4.11 4.68 0.69 19.84 2.49 853.99  ...  24.25 5.37 19.86 20.36 0.67 85.01\n",
              "4 4.12 4.72 0.34 17.29 2.50 915.86  ... 787.17 5.57 21.74 21.18 2.96 35.75\n",
              "\n",
              "[5 rows x 23 columns]"
            ]
          },
          "metadata": {
            "tags": []
          },
          "execution_count": 15
        }
      ]
    },
    {
      "cell_type": "code",
      "metadata": {
        "colab": {
          "base_uri": "https://localhost:8080/"
        },
        "id": "Aq6pSqYV8DtA",
        "outputId": "98d2656e-58a9-4d82-cdbd-0a73b2bfb2a5"
      },
      "source": [
        "df_out.shape"
      ],
      "execution_count": null,
      "outputs": [
        {
          "output_type": "execute_result",
          "data": {
            "text/plain": [
              "(21920, 4)"
            ]
          },
          "metadata": {
            "tags": []
          },
          "execution_count": 16
        }
      ]
    },
    {
      "cell_type": "code",
      "metadata": {
        "id": "TdfYdF_C8DtA"
      },
      "source": [
        "df_out.columns=['out1','out2','out3','out4']"
      ],
      "execution_count": null,
      "outputs": []
    },
    {
      "cell_type": "code",
      "metadata": {
        "colab": {
          "base_uri": "https://localhost:8080/",
          "height": 204
        },
        "id": "mZjt1z5j8DtB",
        "outputId": "b85055fc-e3f2-4167-e986-8a8ba240b229"
      },
      "source": [
        "df_out.head()"
      ],
      "execution_count": null,
      "outputs": [
        {
          "output_type": "execute_result",
          "data": {
            "text/html": [
              "<div>\n",
              "<style scoped>\n",
              "    .dataframe tbody tr th:only-of-type {\n",
              "        vertical-align: middle;\n",
              "    }\n",
              "\n",
              "    .dataframe tbody tr th {\n",
              "        vertical-align: top;\n",
              "    }\n",
              "\n",
              "    .dataframe thead th {\n",
              "        text-align: right;\n",
              "    }\n",
              "</style>\n",
              "<table border=\"1\" class=\"dataframe\">\n",
              "  <thead>\n",
              "    <tr style=\"text-align: right;\">\n",
              "      <th></th>\n",
              "      <th>out1</th>\n",
              "      <th>out2</th>\n",
              "      <th>out3</th>\n",
              "      <th>out4</th>\n",
              "    </tr>\n",
              "  </thead>\n",
              "  <tbody>\n",
              "    <tr>\n",
              "      <th>0</th>\n",
              "      <td>0.00</td>\n",
              "      <td>0.00</td>\n",
              "      <td>0.00</td>\n",
              "      <td>0.00</td>\n",
              "    </tr>\n",
              "    <tr>\n",
              "      <th>1</th>\n",
              "      <td>18.64</td>\n",
              "      <td>61.73</td>\n",
              "      <td>1.04</td>\n",
              "      <td>28.95</td>\n",
              "    </tr>\n",
              "    <tr>\n",
              "      <th>2</th>\n",
              "      <td>25.44</td>\n",
              "      <td>82.24</td>\n",
              "      <td>1.07</td>\n",
              "      <td>28.97</td>\n",
              "    </tr>\n",
              "    <tr>\n",
              "      <th>3</th>\n",
              "      <td>4.95</td>\n",
              "      <td>32.32</td>\n",
              "      <td>1.02</td>\n",
              "      <td>15.06</td>\n",
              "    </tr>\n",
              "    <tr>\n",
              "      <th>4</th>\n",
              "      <td>4.64</td>\n",
              "      <td>24.78</td>\n",
              "      <td>1.02</td>\n",
              "      <td>18.28</td>\n",
              "    </tr>\n",
              "  </tbody>\n",
              "</table>\n",
              "</div>"
            ],
            "text/plain": [
              "   out1  out2  out3  out4\n",
              "0  0.00  0.00  0.00  0.00\n",
              "1 18.64 61.73  1.04 28.95\n",
              "2 25.44 82.24  1.07 28.97\n",
              "3  4.95 32.32  1.02 15.06\n",
              "4  4.64 24.78  1.02 18.28"
            ]
          },
          "metadata": {
            "tags": []
          },
          "execution_count": 18
        }
      ]
    },
    {
      "cell_type": "code",
      "metadata": {
        "id": "Aal6SYBQ8DtB"
      },
      "source": [
        ""
      ],
      "execution_count": null,
      "outputs": []
    },
    {
      "cell_type": "markdown",
      "metadata": {
        "id": "9OYad_Qk8DtB"
      },
      "source": [
        "### Appending input and output"
      ]
    },
    {
      "cell_type": "code",
      "metadata": {
        "id": "44VJ8P2q8DtB"
      },
      "source": [
        "df=df_in.append(df_out)"
      ],
      "execution_count": null,
      "outputs": []
    },
    {
      "cell_type": "code",
      "metadata": {
        "colab": {
          "base_uri": "https://localhost:8080/",
          "height": 224
        },
        "id": "hn4xW4F28DtC",
        "outputId": "ed0f40c4-1ab7-45b7-de5e-9bf311961af3"
      },
      "source": [
        "df.head()"
      ],
      "execution_count": null,
      "outputs": [
        {
          "output_type": "execute_result",
          "data": {
            "text/html": [
              "<div>\n",
              "<style scoped>\n",
              "    .dataframe tbody tr th:only-of-type {\n",
              "        vertical-align: middle;\n",
              "    }\n",
              "\n",
              "    .dataframe tbody tr th {\n",
              "        vertical-align: top;\n",
              "    }\n",
              "\n",
              "    .dataframe thead th {\n",
              "        text-align: right;\n",
              "    }\n",
              "</style>\n",
              "<table border=\"1\" class=\"dataframe\">\n",
              "  <thead>\n",
              "    <tr style=\"text-align: right;\">\n",
              "      <th></th>\n",
              "      <th>A</th>\n",
              "      <th>B</th>\n",
              "      <th>C</th>\n",
              "      <th>D</th>\n",
              "      <th>E</th>\n",
              "      <th>F</th>\n",
              "      <th>G</th>\n",
              "      <th>H</th>\n",
              "      <th>I</th>\n",
              "      <th>J</th>\n",
              "      <th>K</th>\n",
              "      <th>L</th>\n",
              "      <th>M</th>\n",
              "      <th>N</th>\n",
              "      <th>O</th>\n",
              "      <th>P</th>\n",
              "      <th>Q</th>\n",
              "      <th>R</th>\n",
              "      <th>S</th>\n",
              "      <th>T</th>\n",
              "      <th>U</th>\n",
              "      <th>V</th>\n",
              "      <th>W</th>\n",
              "      <th>out1</th>\n",
              "      <th>out2</th>\n",
              "      <th>out3</th>\n",
              "      <th>out4</th>\n",
              "    </tr>\n",
              "  </thead>\n",
              "  <tbody>\n",
              "    <tr>\n",
              "      <th>0</th>\n",
              "      <td>4.39</td>\n",
              "      <td>4.60</td>\n",
              "      <td>0.14</td>\n",
              "      <td>18.60</td>\n",
              "      <td>3.78</td>\n",
              "      <td>342.29</td>\n",
              "      <td>56.62</td>\n",
              "      <td>3.52</td>\n",
              "      <td>19.84</td>\n",
              "      <td>20.14</td>\n",
              "      <td>4.22</td>\n",
              "      <td>99.84</td>\n",
              "      <td>3.89</td>\n",
              "      <td>0.19</td>\n",
              "      <td>19.95</td>\n",
              "      <td>3.88</td>\n",
              "      <td>934.90</td>\n",
              "      <td>636.41</td>\n",
              "      <td>4.89</td>\n",
              "      <td>19.53</td>\n",
              "      <td>18.11</td>\n",
              "      <td>1.47</td>\n",
              "      <td>73.67</td>\n",
              "      <td>nan</td>\n",
              "      <td>nan</td>\n",
              "      <td>nan</td>\n",
              "      <td>nan</td>\n",
              "    </tr>\n",
              "    <tr>\n",
              "      <th>1</th>\n",
              "      <td>4.02</td>\n",
              "      <td>5.16</td>\n",
              "      <td>0.50</td>\n",
              "      <td>16.31</td>\n",
              "      <td>2.51</td>\n",
              "      <td>186.37</td>\n",
              "      <td>947.34</td>\n",
              "      <td>3.39</td>\n",
              "      <td>18.56</td>\n",
              "      <td>20.16</td>\n",
              "      <td>3.96</td>\n",
              "      <td>55.75</td>\n",
              "      <td>4.03</td>\n",
              "      <td>0.76</td>\n",
              "      <td>14.98</td>\n",
              "      <td>3.14</td>\n",
              "      <td>593.65</td>\n",
              "      <td>85.34</td>\n",
              "      <td>3.98</td>\n",
              "      <td>21.11</td>\n",
              "      <td>18.54</td>\n",
              "      <td>2.26</td>\n",
              "      <td>83.41</td>\n",
              "      <td>nan</td>\n",
              "      <td>nan</td>\n",
              "      <td>nan</td>\n",
              "      <td>nan</td>\n",
              "    </tr>\n",
              "    <tr>\n",
              "      <th>2</th>\n",
              "      <td>4.19</td>\n",
              "      <td>5.37</td>\n",
              "      <td>0.15</td>\n",
              "      <td>18.65</td>\n",
              "      <td>2.76</td>\n",
              "      <td>281.59</td>\n",
              "      <td>543.41</td>\n",
              "      <td>3.44</td>\n",
              "      <td>21.68</td>\n",
              "      <td>19.43</td>\n",
              "      <td>4.03</td>\n",
              "      <td>27.00</td>\n",
              "      <td>1.64</td>\n",
              "      <td>0.81</td>\n",
              "      <td>17.78</td>\n",
              "      <td>3.81</td>\n",
              "      <td>664.12</td>\n",
              "      <td>547.28</td>\n",
              "      <td>2.72</td>\n",
              "      <td>18.39</td>\n",
              "      <td>21.32</td>\n",
              "      <td>1.57</td>\n",
              "      <td>60.68</td>\n",
              "      <td>nan</td>\n",
              "      <td>nan</td>\n",
              "      <td>nan</td>\n",
              "      <td>nan</td>\n",
              "    </tr>\n",
              "    <tr>\n",
              "      <th>3</th>\n",
              "      <td>4.11</td>\n",
              "      <td>4.68</td>\n",
              "      <td>0.69</td>\n",
              "      <td>19.84</td>\n",
              "      <td>2.49</td>\n",
              "      <td>853.99</td>\n",
              "      <td>901.33</td>\n",
              "      <td>6.03</td>\n",
              "      <td>21.01</td>\n",
              "      <td>19.04</td>\n",
              "      <td>4.10</td>\n",
              "      <td>85.02</td>\n",
              "      <td>8.44</td>\n",
              "      <td>0.78</td>\n",
              "      <td>16.84</td>\n",
              "      <td>4.48</td>\n",
              "      <td>929.19</td>\n",
              "      <td>24.25</td>\n",
              "      <td>5.37</td>\n",
              "      <td>19.86</td>\n",
              "      <td>20.36</td>\n",
              "      <td>0.67</td>\n",
              "      <td>85.01</td>\n",
              "      <td>nan</td>\n",
              "      <td>nan</td>\n",
              "      <td>nan</td>\n",
              "      <td>nan</td>\n",
              "    </tr>\n",
              "    <tr>\n",
              "      <th>4</th>\n",
              "      <td>4.12</td>\n",
              "      <td>4.72</td>\n",
              "      <td>0.34</td>\n",
              "      <td>17.29</td>\n",
              "      <td>2.50</td>\n",
              "      <td>915.86</td>\n",
              "      <td>670.69</td>\n",
              "      <td>5.71</td>\n",
              "      <td>18.73</td>\n",
              "      <td>18.56</td>\n",
              "      <td>3.93</td>\n",
              "      <td>62.60</td>\n",
              "      <td>5.94</td>\n",
              "      <td>0.38</td>\n",
              "      <td>14.14</td>\n",
              "      <td>2.06</td>\n",
              "      <td>506.78</td>\n",
              "      <td>787.17</td>\n",
              "      <td>5.57</td>\n",
              "      <td>21.74</td>\n",
              "      <td>21.18</td>\n",
              "      <td>2.96</td>\n",
              "      <td>35.75</td>\n",
              "      <td>nan</td>\n",
              "      <td>nan</td>\n",
              "      <td>nan</td>\n",
              "      <td>nan</td>\n",
              "    </tr>\n",
              "  </tbody>\n",
              "</table>\n",
              "</div>"
            ],
            "text/plain": [
              "     A    B    C     D    E      F  ...    V     W  out1  out2  out3  out4\n",
              "0 4.39 4.60 0.14 18.60 3.78 342.29  ... 1.47 73.67   nan   nan   nan   nan\n",
              "1 4.02 5.16 0.50 16.31 2.51 186.37  ... 2.26 83.41   nan   nan   nan   nan\n",
              "2 4.19 5.37 0.15 18.65 2.76 281.59  ... 1.57 60.68   nan   nan   nan   nan\n",
              "3 4.11 4.68 0.69 19.84 2.49 853.99  ... 0.67 85.01   nan   nan   nan   nan\n",
              "4 4.12 4.72 0.34 17.29 2.50 915.86  ... 2.96 35.75   nan   nan   nan   nan\n",
              "\n",
              "[5 rows x 27 columns]"
            ]
          },
          "metadata": {
            "tags": []
          },
          "execution_count": 35
        }
      ]
    },
    {
      "cell_type": "code",
      "metadata": {
        "colab": {
          "base_uri": "https://localhost:8080/"
        },
        "id": "TXRHcUPK8DtC",
        "outputId": "6c3590ac-4969-4ece-a133-80a2662e2670"
      },
      "source": [
        "df.info()"
      ],
      "execution_count": null,
      "outputs": [
        {
          "output_type": "stream",
          "text": [
            "<class 'pandas.core.frame.DataFrame'>\n",
            "Int64Index: 43840 entries, 0 to 21919\n",
            "Data columns (total 27 columns):\n",
            " #   Column  Non-Null Count  Dtype  \n",
            "---  ------  --------------  -----  \n",
            " 0   A       21920 non-null  float64\n",
            " 1   B       21920 non-null  float64\n",
            " 2   C       21920 non-null  float64\n",
            " 3   D       21920 non-null  float64\n",
            " 4   E       21920 non-null  float64\n",
            " 5   F       21920 non-null  float64\n",
            " 6   G       21920 non-null  float64\n",
            " 7   H       21920 non-null  float64\n",
            " 8   I       21920 non-null  float64\n",
            " 9   J       21920 non-null  float64\n",
            " 10  K       21920 non-null  float64\n",
            " 11  L       21920 non-null  float64\n",
            " 12  M       21920 non-null  float64\n",
            " 13  N       21920 non-null  float64\n",
            " 14  O       21920 non-null  float64\n",
            " 15  P       21920 non-null  float64\n",
            " 16  Q       21920 non-null  float64\n",
            " 17  R       21920 non-null  float64\n",
            " 18  S       21920 non-null  float64\n",
            " 19  T       21920 non-null  float64\n",
            " 20  U       21920 non-null  float64\n",
            " 21  V       21920 non-null  float64\n",
            " 22  W       21920 non-null  float64\n",
            " 23  out1    21920 non-null  float64\n",
            " 24  out2    21920 non-null  float64\n",
            " 25  out3    21920 non-null  float64\n",
            " 26  out4    21920 non-null  float64\n",
            "dtypes: float64(27)\n",
            "memory usage: 9.4 MB\n"
          ],
          "name": "stdout"
        }
      ]
    },
    {
      "cell_type": "markdown",
      "metadata": {
        "id": "F598dSFa8DtC"
      },
      "source": [
        "- All are float values\n",
        "- there is no null values"
      ]
    },
    {
      "cell_type": "code",
      "metadata": {
        "colab": {
          "base_uri": "https://localhost:8080/",
          "height": 886
        },
        "id": "JxEV5yLA8DtD",
        "outputId": "b3e0d235-0c34-4f7c-ef64-00bb0b5fe0e1"
      },
      "source": [
        "df.describe().T"
      ],
      "execution_count": null,
      "outputs": [
        {
          "output_type": "execute_result",
          "data": {
            "text/html": [
              "<div>\n",
              "<style scoped>\n",
              "    .dataframe tbody tr th:only-of-type {\n",
              "        vertical-align: middle;\n",
              "    }\n",
              "\n",
              "    .dataframe tbody tr th {\n",
              "        vertical-align: top;\n",
              "    }\n",
              "\n",
              "    .dataframe thead th {\n",
              "        text-align: right;\n",
              "    }\n",
              "</style>\n",
              "<table border=\"1\" class=\"dataframe\">\n",
              "  <thead>\n",
              "    <tr style=\"text-align: right;\">\n",
              "      <th></th>\n",
              "      <th>count</th>\n",
              "      <th>mean</th>\n",
              "      <th>std</th>\n",
              "      <th>min</th>\n",
              "      <th>25%</th>\n",
              "      <th>50%</th>\n",
              "      <th>75%</th>\n",
              "      <th>max</th>\n",
              "    </tr>\n",
              "  </thead>\n",
              "  <tbody>\n",
              "    <tr>\n",
              "      <th>A</th>\n",
              "      <td>21,920.00</td>\n",
              "      <td>4.30</td>\n",
              "      <td>0.23</td>\n",
              "      <td>3.90</td>\n",
              "      <td>4.10</td>\n",
              "      <td>4.30</td>\n",
              "      <td>4.50</td>\n",
              "      <td>4.70</td>\n",
              "    </tr>\n",
              "    <tr>\n",
              "      <th>B</th>\n",
              "      <td>21,920.00</td>\n",
              "      <td>4.90</td>\n",
              "      <td>0.29</td>\n",
              "      <td>4.40</td>\n",
              "      <td>4.66</td>\n",
              "      <td>4.90</td>\n",
              "      <td>5.15</td>\n",
              "      <td>5.40</td>\n",
              "    </tr>\n",
              "    <tr>\n",
              "      <th>C</th>\n",
              "      <td>21,920.00</td>\n",
              "      <td>0.50</td>\n",
              "      <td>0.29</td>\n",
              "      <td>0.00</td>\n",
              "      <td>0.25</td>\n",
              "      <td>0.50</td>\n",
              "      <td>0.75</td>\n",
              "      <td>1.00</td>\n",
              "    </tr>\n",
              "    <tr>\n",
              "      <th>D</th>\n",
              "      <td>21,920.00</td>\n",
              "      <td>16.98</td>\n",
              "      <td>1.73</td>\n",
              "      <td>14.00</td>\n",
              "      <td>15.48</td>\n",
              "      <td>16.97</td>\n",
              "      <td>18.46</td>\n",
              "      <td>20.00</td>\n",
              "    </tr>\n",
              "    <tr>\n",
              "      <th>E</th>\n",
              "      <td>21,920.00</td>\n",
              "      <td>3.24</td>\n",
              "      <td>1.01</td>\n",
              "      <td>1.50</td>\n",
              "      <td>2.36</td>\n",
              "      <td>3.23</td>\n",
              "      <td>4.11</td>\n",
              "      <td>5.00</td>\n",
              "    </tr>\n",
              "    <tr>\n",
              "      <th>F</th>\n",
              "      <td>21,920.00</td>\n",
              "      <td>497.89</td>\n",
              "      <td>287.62</td>\n",
              "      <td>0.02</td>\n",
              "      <td>250.10</td>\n",
              "      <td>499.00</td>\n",
              "      <td>744.63</td>\n",
              "      <td>999.94</td>\n",
              "    </tr>\n",
              "    <tr>\n",
              "      <th>G</th>\n",
              "      <td>21,920.00</td>\n",
              "      <td>502.90</td>\n",
              "      <td>288.26</td>\n",
              "      <td>0.13</td>\n",
              "      <td>254.59</td>\n",
              "      <td>504.84</td>\n",
              "      <td>752.80</td>\n",
              "      <td>999.99</td>\n",
              "    </tr>\n",
              "    <tr>\n",
              "      <th>H</th>\n",
              "      <td>21,920.00</td>\n",
              "      <td>3.98</td>\n",
              "      <td>1.73</td>\n",
              "      <td>1.00</td>\n",
              "      <td>2.47</td>\n",
              "      <td>3.97</td>\n",
              "      <td>5.49</td>\n",
              "      <td>7.00</td>\n",
              "    </tr>\n",
              "    <tr>\n",
              "      <th>I</th>\n",
              "      <td>21,920.00</td>\n",
              "      <td>19.99</td>\n",
              "      <td>1.16</td>\n",
              "      <td>18.00</td>\n",
              "      <td>18.98</td>\n",
              "      <td>20.00</td>\n",
              "      <td>20.98</td>\n",
              "      <td>22.00</td>\n",
              "    </tr>\n",
              "    <tr>\n",
              "      <th>J</th>\n",
              "      <td>21,920.00</td>\n",
              "      <td>20.00</td>\n",
              "      <td>1.16</td>\n",
              "      <td>18.00</td>\n",
              "      <td>19.01</td>\n",
              "      <td>20.00</td>\n",
              "      <td>21.00</td>\n",
              "      <td>22.00</td>\n",
              "    </tr>\n",
              "    <tr>\n",
              "      <th>K</th>\n",
              "      <td>21,920.00</td>\n",
              "      <td>4.10</td>\n",
              "      <td>0.18</td>\n",
              "      <td>3.90</td>\n",
              "      <td>3.95</td>\n",
              "      <td>4.05</td>\n",
              "      <td>4.21</td>\n",
              "      <td>4.70</td>\n",
              "    </tr>\n",
              "    <tr>\n",
              "      <th>L</th>\n",
              "      <td>21,920.00</td>\n",
              "      <td>51.04</td>\n",
              "      <td>28.26</td>\n",
              "      <td>2.00</td>\n",
              "      <td>26.64</td>\n",
              "      <td>51.01</td>\n",
              "      <td>75.36</td>\n",
              "      <td>100.00</td>\n",
              "    </tr>\n",
              "    <tr>\n",
              "      <th>M</th>\n",
              "      <td>21,920.00</td>\n",
              "      <td>5.09</td>\n",
              "      <td>2.87</td>\n",
              "      <td>0.10</td>\n",
              "      <td>2.63</td>\n",
              "      <td>5.11</td>\n",
              "      <td>7.59</td>\n",
              "      <td>10.00</td>\n",
              "    </tr>\n",
              "    <tr>\n",
              "      <th>N</th>\n",
              "      <td>21,920.00</td>\n",
              "      <td>0.50</td>\n",
              "      <td>0.29</td>\n",
              "      <td>0.00</td>\n",
              "      <td>0.25</td>\n",
              "      <td>0.50</td>\n",
              "      <td>0.75</td>\n",
              "      <td>1.00</td>\n",
              "    </tr>\n",
              "    <tr>\n",
              "      <th>O</th>\n",
              "      <td>21,920.00</td>\n",
              "      <td>16.99</td>\n",
              "      <td>1.73</td>\n",
              "      <td>14.00</td>\n",
              "      <td>15.49</td>\n",
              "      <td>17.00</td>\n",
              "      <td>18.47</td>\n",
              "      <td>20.00</td>\n",
              "    </tr>\n",
              "    <tr>\n",
              "      <th>P</th>\n",
              "      <td>21,920.00</td>\n",
              "      <td>3.25</td>\n",
              "      <td>1.01</td>\n",
              "      <td>1.50</td>\n",
              "      <td>2.39</td>\n",
              "      <td>3.24</td>\n",
              "      <td>4.13</td>\n",
              "      <td>5.00</td>\n",
              "    </tr>\n",
              "    <tr>\n",
              "      <th>Q</th>\n",
              "      <td>21,920.00</td>\n",
              "      <td>499.18</td>\n",
              "      <td>291.03</td>\n",
              "      <td>0.03</td>\n",
              "      <td>246.18</td>\n",
              "      <td>498.07</td>\n",
              "      <td>752.44</td>\n",
              "      <td>999.94</td>\n",
              "    </tr>\n",
              "    <tr>\n",
              "      <th>R</th>\n",
              "      <td>21,920.00</td>\n",
              "      <td>500.81</td>\n",
              "      <td>287.76</td>\n",
              "      <td>0.06</td>\n",
              "      <td>252.88</td>\n",
              "      <td>500.48</td>\n",
              "      <td>748.80</td>\n",
              "      <td>999.99</td>\n",
              "    </tr>\n",
              "    <tr>\n",
              "      <th>S</th>\n",
              "      <td>21,920.00</td>\n",
              "      <td>4.01</td>\n",
              "      <td>1.73</td>\n",
              "      <td>1.00</td>\n",
              "      <td>2.52</td>\n",
              "      <td>4.01</td>\n",
              "      <td>5.50</td>\n",
              "      <td>7.00</td>\n",
              "    </tr>\n",
              "    <tr>\n",
              "      <th>T</th>\n",
              "      <td>21,920.00</td>\n",
              "      <td>20.01</td>\n",
              "      <td>1.15</td>\n",
              "      <td>18.00</td>\n",
              "      <td>19.01</td>\n",
              "      <td>20.01</td>\n",
              "      <td>21.01</td>\n",
              "      <td>22.00</td>\n",
              "    </tr>\n",
              "    <tr>\n",
              "      <th>U</th>\n",
              "      <td>21,920.00</td>\n",
              "      <td>20.00</td>\n",
              "      <td>1.15</td>\n",
              "      <td>18.00</td>\n",
              "      <td>19.01</td>\n",
              "      <td>20.00</td>\n",
              "      <td>20.99</td>\n",
              "      <td>22.00</td>\n",
              "    </tr>\n",
              "    <tr>\n",
              "      <th>V</th>\n",
              "      <td>21,920.00</td>\n",
              "      <td>1.90</td>\n",
              "      <td>1.03</td>\n",
              "      <td>-0.53</td>\n",
              "      <td>1.02</td>\n",
              "      <td>1.90</td>\n",
              "      <td>2.77</td>\n",
              "      <td>3.89</td>\n",
              "    </tr>\n",
              "    <tr>\n",
              "      <th>W</th>\n",
              "      <td>21,920.00</td>\n",
              "      <td>50.92</td>\n",
              "      <td>28.48</td>\n",
              "      <td>2.00</td>\n",
              "      <td>26.32</td>\n",
              "      <td>50.58</td>\n",
              "      <td>75.64</td>\n",
              "      <td>100.00</td>\n",
              "    </tr>\n",
              "    <tr>\n",
              "      <th>out1</th>\n",
              "      <td>21,920.00</td>\n",
              "      <td>9.84</td>\n",
              "      <td>6.44</td>\n",
              "      <td>0.00</td>\n",
              "      <td>4.77</td>\n",
              "      <td>8.21</td>\n",
              "      <td>14.25</td>\n",
              "      <td>26.69</td>\n",
              "    </tr>\n",
              "    <tr>\n",
              "      <th>out2</th>\n",
              "      <td>21,920.00</td>\n",
              "      <td>40.90</td>\n",
              "      <td>19.03</td>\n",
              "      <td>0.00</td>\n",
              "      <td>28.03</td>\n",
              "      <td>37.27</td>\n",
              "      <td>52.02</td>\n",
              "      <td>89.06</td>\n",
              "    </tr>\n",
              "    <tr>\n",
              "      <th>out3</th>\n",
              "      <td>21,920.00</td>\n",
              "      <td>1.03</td>\n",
              "      <td>0.21</td>\n",
              "      <td>0.00</td>\n",
              "      <td>1.02</td>\n",
              "      <td>1.04</td>\n",
              "      <td>1.05</td>\n",
              "      <td>8.95</td>\n",
              "    </tr>\n",
              "    <tr>\n",
              "      <th>out4</th>\n",
              "      <td>21,920.00</td>\n",
              "      <td>21.39</td>\n",
              "      <td>7.19</td>\n",
              "      <td>0.00</td>\n",
              "      <td>15.89</td>\n",
              "      <td>23.00</td>\n",
              "      <td>28.16</td>\n",
              "      <td>29.49</td>\n",
              "    </tr>\n",
              "  </tbody>\n",
              "</table>\n",
              "</div>"
            ],
            "text/plain": [
              "         count   mean    std   min    25%    50%    75%    max\n",
              "A    21,920.00   4.30   0.23  3.90   4.10   4.30   4.50   4.70\n",
              "B    21,920.00   4.90   0.29  4.40   4.66   4.90   5.15   5.40\n",
              "C    21,920.00   0.50   0.29  0.00   0.25   0.50   0.75   1.00\n",
              "D    21,920.00  16.98   1.73 14.00  15.48  16.97  18.46  20.00\n",
              "E    21,920.00   3.24   1.01  1.50   2.36   3.23   4.11   5.00\n",
              "F    21,920.00 497.89 287.62  0.02 250.10 499.00 744.63 999.94\n",
              "G    21,920.00 502.90 288.26  0.13 254.59 504.84 752.80 999.99\n",
              "H    21,920.00   3.98   1.73  1.00   2.47   3.97   5.49   7.00\n",
              "I    21,920.00  19.99   1.16 18.00  18.98  20.00  20.98  22.00\n",
              "J    21,920.00  20.00   1.16 18.00  19.01  20.00  21.00  22.00\n",
              "K    21,920.00   4.10   0.18  3.90   3.95   4.05   4.21   4.70\n",
              "L    21,920.00  51.04  28.26  2.00  26.64  51.01  75.36 100.00\n",
              "M    21,920.00   5.09   2.87  0.10   2.63   5.11   7.59  10.00\n",
              "N    21,920.00   0.50   0.29  0.00   0.25   0.50   0.75   1.00\n",
              "O    21,920.00  16.99   1.73 14.00  15.49  17.00  18.47  20.00\n",
              "P    21,920.00   3.25   1.01  1.50   2.39   3.24   4.13   5.00\n",
              "Q    21,920.00 499.18 291.03  0.03 246.18 498.07 752.44 999.94\n",
              "R    21,920.00 500.81 287.76  0.06 252.88 500.48 748.80 999.99\n",
              "S    21,920.00   4.01   1.73  1.00   2.52   4.01   5.50   7.00\n",
              "T    21,920.00  20.01   1.15 18.00  19.01  20.01  21.01  22.00\n",
              "U    21,920.00  20.00   1.15 18.00  19.01  20.00  20.99  22.00\n",
              "V    21,920.00   1.90   1.03 -0.53   1.02   1.90   2.77   3.89\n",
              "W    21,920.00  50.92  28.48  2.00  26.32  50.58  75.64 100.00\n",
              "out1 21,920.00   9.84   6.44  0.00   4.77   8.21  14.25  26.69\n",
              "out2 21,920.00  40.90  19.03  0.00  28.03  37.27  52.02  89.06\n",
              "out3 21,920.00   1.03   0.21  0.00   1.02   1.04   1.05   8.95\n",
              "out4 21,920.00  21.39   7.19  0.00  15.89  23.00  28.16  29.49"
            ]
          },
          "metadata": {
            "tags": []
          },
          "execution_count": 37
        }
      ]
    },
    {
      "cell_type": "markdown",
      "metadata": {
        "id": "MpINtkkC8DtD"
      },
      "source": [
        "- data is not skewed. Mean and median are very similiar for each column"
      ]
    },
    {
      "cell_type": "code",
      "metadata": {
        "colab": {
          "base_uri": "https://localhost:8080/"
        },
        "id": "kwX7I8g18DtD",
        "outputId": "4b8495fa-f0c4-4029-fc23-caf2292e63a0"
      },
      "source": [
        "for i in df.columns:\n",
        "    print(i)\n",
        "    sns.distplot(df[i])\n",
        "    plt.show()"
      ],
      "execution_count": null,
      "outputs": [
        {
          "output_type": "stream",
          "text": [
            "A\n",
            "B\n",
            "C\n",
            "D\n",
            "E\n",
            "F\n",
            "G\n",
            "H\n",
            "I\n",
            "J\n",
            "K\n",
            "L\n",
            "M\n",
            "N\n",
            "O\n",
            "P\n",
            "Q\n",
            "R\n",
            "S\n",
            "T\n",
            "U\n",
            "V\n",
            "W\n",
            "out1\n",
            "out2\n",
            "out3\n",
            "out4\n"
          ],
          "name": "stdout"
        }
      ]
    },
    {
      "cell_type": "code",
      "metadata": {
        "colab": {
          "base_uri": "https://localhost:8080/"
        },
        "id": "ZZa_KHQl8DtE",
        "outputId": "9ff7af45-231c-4a64-a113-20bb2f2a28d0"
      },
      "source": [
        "plt.figure(figsize=[20,30])\n",
        "sns.heatmap(df.corr(),annot=True)"
      ],
      "execution_count": null,
      "outputs": [
        {
          "output_type": "execute_result",
          "data": {
            "text/plain": [
              "<matplotlib.axes._subplots.AxesSubplot at 0x7ff19cfc5ba8>"
            ]
          },
          "metadata": {
            "tags": []
          },
          "execution_count": 39
        }
      ]
    },
    {
      "cell_type": "markdown",
      "metadata": {
        "id": "ed-B84qI8DtE"
      },
      "source": [
        "- A, K are correlated\n",
        "- P and V are highly negatively correlated\n",
        "- Columns should be independent to each other before applying ML algorithms. For taht we need to either drop columns or we have to do dimensinality reduction\n",
        "- As we don't the real column names, I prefer dimensionality reduction techniques"
      ]
    },
    {
      "cell_type": "code",
      "metadata": {
        "id": "Hg2OSRPF8DtE"
      },
      "source": [
        "from sklearn.preprocessing import StandardScaler \n",
        "from sklearn.decomposition import PCA \n",
        "from sklearn.linear_model import LinearRegression \n",
        "from sklearn.tree import DecisionTreeRegressor\n",
        "from sklearn.pipeline import Pipeline\n",
        "from sklearn.model_selection import GridSearchCV\n",
        "from sklearn.ensemble import RandomForestRegressor"
      ],
      "execution_count": null,
      "outputs": []
    },
    {
      "cell_type": "code",
      "metadata": {
        "id": "qdw80ELT8DtE"
      },
      "source": [
        "from sklearn.model_selection import train_test_split\n",
        "X_train, X_test, y_train, y_test = train_test_split(df_in, df_out, test_size = .30, random_state=0)"
      ],
      "execution_count": null,
      "outputs": []
    },
    {
      "cell_type": "code",
      "metadata": {
        "colab": {
          "base_uri": "https://localhost:8080/"
        },
        "id": "3R-TiuJt8DtF",
        "outputId": "da29d117-04e9-413f-8088-1339f4e5fe5c"
      },
      "source": [
        "pipe_lr = Pipeline([('scl', StandardScaler()), ('pca', PCA(n_components=23)), ('clf', LinearRegression())]) \n",
        "pipe_lr.fit(X_train, y_train) \n",
        "print('Test Accuracy: %.3f' % pipe_lr.score(X_test, y_test))\n",
        "y_pred = pipe_lr.predict(X_test)\n",
        "from sklearn import metrics\n",
        "print('Mean Absolute Error:', metrics.mean_absolute_error(y_test, y_pred))\n",
        "print('Mean Squared Error:', metrics.mean_squared_error(y_test, y_pred))\n",
        "print('Root Mean Squared Error:', np.sqrt(metrics.mean_squared_error(y_test, y_pred)))"
      ],
      "execution_count": null,
      "outputs": [
        {
          "output_type": "stream",
          "text": [
            "Test Accuracy: 0.688\n",
            "Mean Absolute Error: 3.3244151863310814\n",
            "Mean Squared Error: 35.761560759973\n",
            "Root Mean Squared Error: 5.980097052721887\n"
          ],
          "name": "stdout"
        }
      ]
    },
    {
      "cell_type": "code",
      "metadata": {
        "colab": {
          "base_uri": "https://localhost:8080/"
        },
        "id": "tdzUd29J0lBl",
        "outputId": "361d2a27-df78-4c7b-f118-0bb4136f92d0"
      },
      "source": [
        "for i in range(4):\r\n",
        "    print('Root Mean Squared Error:', np.sqrt(metrics.mean_squared_error(y_test.iloc[:,i], y_pred[:,i])))"
      ],
      "execution_count": 47,
      "outputs": [
        {
          "output_type": "stream",
          "text": [
            "Root Mean Squared Error: 3.20948663723674\n",
            "Root Mean Squared Error: 10.38131292786422\n",
            "Root Mean Squared Error: 0.2037104505473943\n",
            "Root Mean Squared Error: 4.99322365925941\n"
          ],
          "name": "stdout"
        }
      ]
    },
    {
      "cell_type": "markdown",
      "metadata": {
        "id": "VJOPtEAI_xp9"
      },
      "source": [
        "### neural networks"
      ]
    },
    {
      "cell_type": "code",
      "metadata": {
        "id": "rjArLVGZ_8fD"
      },
      "source": [
        "from sklearn.neural_network import MLPRegressor   \r\n"
      ],
      "execution_count": null,
      "outputs": []
    },
    {
      "cell_type": "code",
      "metadata": {
        "colab": {
          "base_uri": "https://localhost:8080/"
        },
        "id": "MHRBV7ocAWVq",
        "outputId": "ec7c1e19-c1b2-4987-a84e-6394cbfdaffa"
      },
      "source": [
        "regr = MLPRegressor(random_state=1, max_iter=500).fit(X_train, y_train)\r\n",
        "regr.score(X_test, y_test)"
      ],
      "execution_count": null,
      "outputs": [
        {
          "output_type": "execute_result",
          "data": {
            "text/plain": [
              "0.651467976891008"
            ]
          },
          "metadata": {
            "tags": []
          },
          "execution_count": 29
        }
      ]
    },
    {
      "cell_type": "code",
      "metadata": {
        "colab": {
          "base_uri": "https://localhost:8080/"
        },
        "id": "74OanI6tBPWX",
        "outputId": "7fb43d07-be1e-42ad-f1db-b17390c68b36"
      },
      "source": [
        "y_pred_regr = regr.predict(X_test)\r\n",
        "\r\n",
        "for i in range(4):\r\n",
        "    print('Root Mean Squared Error:', np.sqrt(metrics.mean_squared_error(y_test.iloc[:,i], y_pred_regr[:,i])))"
      ],
      "execution_count": null,
      "outputs": [
        {
          "output_type": "stream",
          "text": [
            "Root Mean Squared Error: 3.469293726829775\n",
            "Root Mean Squared Error: 11.009550810021487\n",
            "Root Mean Squared Error: 0.5283404906178082\n",
            "Root Mean Squared Error: 5.136858144537245\n"
          ],
          "name": "stdout"
        }
      ]
    },
    {
      "cell_type": "code",
      "metadata": {
        "id": "cjUHYYLjiNEW",
        "colab": {
          "base_uri": "https://localhost:8080/"
        },
        "outputId": "6717f55e-5dff-4b1e-bcd2-e0d54dd2c6e5"
      },
      "source": [
        "pipe_MLP = Pipeline([('scl', StandardScaler()), ('pca', PCA(n_components=22)), ('clf', MLPRegressor())]) \r\n",
        "param_grid_MLP = {'clf__hidden_layer_sizes':list(range(50,100,20)),'clf__solver':['sgd','adam'],'clf__learning_rate':['constant','adptive']} \r\n",
        "grid_MLP = GridSearchCV( pipe_MLP , param_grid = param_grid_MLP, cv = 5) \r\n",
        "grid_MLP.fit( X_train, y_train) \r\n",
        "print(\" Best parameters: \", grid_MLP.best_params_) "
      ],
      "execution_count": 44,
      "outputs": [
        {
          "output_type": "stream",
          "text": [
            " Best parameters:  {'clf__hidden_layer_sizes': 90, 'clf__learning_rate': 'constant', 'clf__solver': 'adam'}\n"
          ],
          "name": "stdout"
        }
      ]
    },
    {
      "cell_type": "code",
      "metadata": {
        "colab": {
          "base_uri": "https://localhost:8080/"
        },
        "id": "rVXbe8DDv5j8",
        "outputId": "9f768c7e-e1b0-40d9-8812-eaccbfe2b506"
      },
      "source": [
        "print(grid_MLP.score(X_test, y_test))\r\n",
        "y_pred_MLP = grid_MLP.predict(X_test)\r\n",
        "for i in range(4):\r\n",
        "    print('Root Mean Squared Error:', np.sqrt(metrics.mean_squared_error(y_test.iloc[:,i], y_pred_MLP[:,i])))"
      ],
      "execution_count": 46,
      "outputs": [
        {
          "output_type": "stream",
          "text": [
            "0.7774441765193517\n",
            "Root Mean Squared Error: 2.6144413252729195\n",
            "Root Mean Squared Error: 9.224769136697573\n",
            "Root Mean Squared Error: 0.2061206206326614\n",
            "Root Mean Squared Error: 3.184085046488475\n"
          ],
          "name": "stdout"
        }
      ]
    },
    {
      "cell_type": "markdown",
      "metadata": {
        "id": "okjdqah5zOwk"
      },
      "source": [
        "### Conclusion\r\n",
        "#### Linear Regression\r\n",
        "* Coeficient of determination R^2 of prediction: 0.688\r\n",
        "* Root Mean Squared Error of first output: 3.20948663723674\r\n",
        "* Root Mean Squared Error second output: 10.38131292786422\r\n",
        "* Root Mean Squared Error third output: 0.2037104505473943\r\n",
        "* Root Mean Squared Error forth output: 4.99322365925941\r\n",
        "\r\n",
        "\r\n",
        "#### Neural networks\r\n",
        "\r\n",
        "\r\n",
        "*   Coeficient of determination R^2 of prediction: 0.7774441765193517\r\n",
        "*   Root Mean Squared Error of first output: 2.614441325272919\r\n",
        "*   Root Mean Squared Error of second output: 9.224769136697573\r\n",
        "*   Root Mean Squared Error of third output: 0.2061206206326614\r\n",
        "*   Root Mean Squared Error of forth output: 3.184085046488475\r\n",
        "\r\n",
        "\r\n"
      ]
    }
  ]
}